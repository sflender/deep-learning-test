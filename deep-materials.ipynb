{
 "cells": [
  {
   "cell_type": "code",
   "execution_count": 1,
   "metadata": {},
   "outputs": [
    {
     "name": "stderr",
     "output_type": "stream",
     "text": [
      "Using TensorFlow backend.\n"
     ]
    }
   ],
   "source": [
    "import os\n",
    "import pandas as pd\n",
    "import numpy as np\n",
    "import matplotlib\n",
    "import matplotlib.pyplot as plt\n",
    "%matplotlib inline\n",
    "\n",
    "#imports for kears and ML\n",
    "from keras.models import Sequential\n",
    "from keras.layers.core import Dense, Dropout, Activation\n",
    "from keras.utils import np_utils\n",
    "from keras.utils import plot_model\n",
    "from sklearn.model_selection import train_test_split\n",
    "\n",
    "#imports from rdkit\n",
    "from rdkit import Chem\n",
    "from rdkit.Chem.Fingerprints import FingerprintMols\n",
    "from rdkit.Chem import AllChem"
   ]
  },
  {
   "cell_type": "code",
   "execution_count": 2,
   "metadata": {},
   "outputs": [],
   "source": [
    "# function defintions go here\n",
    "\n",
    "def get_smiles_HLgap(filename):\n",
    "    # function for reading xyz file\n",
    "    myfile = open(filename, \"r\")\n",
    "    lines = myfile.readlines()\n",
    "    N_atoms = np.int(lines[0].split()[0])\n",
    "    HL_gap = np.float(lines[1].split()[9])\n",
    "    smiles = np.str(lines[N_atoms+3]).split()[0]\n",
    "    return smiles, HL_gap\n",
    "\n",
    "def smiles_to_fp(smiles, nbits):\n",
    "    # function for generate molecular fingerprint\n",
    "    mol = Chem.MolFromSmiles(smiles)\n",
    "    fp = AllChem.GetMorganFingerprintAsBitVect(mol,2,nBits=nbits)\n",
    "    return fp"
   ]
  },
  {
   "cell_type": "code",
   "execution_count": 13,
   "metadata": {},
   "outputs": [
    {
     "name": "stdout",
     "output_type": "stream",
     "text": [
      "total number of molecules:  133885\n"
     ]
    }
   ],
   "source": [
    "# read the data \n",
    "# I download this data from http://qmml.org/datasets.html\n",
    "\n",
    "root = \"/Users/samuelflender/Downloads/gdb9-14/dsgdb9nsd.xyz/\"\n",
    "list_files = os.listdir(root)\n",
    "N_mols = len(list_files)\n",
    "print \"total number of molecules: \", N_mols\n",
    "\n",
    "N_subset = 133885\n",
    "nbits = 128\n",
    "\n",
    "smiles = []\n",
    "HL_gap = []\n",
    "fingerprint = []\n",
    "count=0\n",
    "\n",
    "for filename in list_files[0:N_subset]:\n",
    "    smi, hlg = get_smiles_HLgap(root+filename)\n",
    "    smiles.append(smi)\n",
    "    HL_gap.append(hlg)\n",
    "    fp = smiles_to_fp(smi,nbits)\n",
    "    fingerprint.append(fp)"
   ]
  },
  {
   "cell_type": "code",
   "execution_count": 14,
   "metadata": {},
   "outputs": [],
   "source": [
    "# get the data into pandas dataframe\n",
    "\n",
    "df = pd.DataFrame()\n",
    "for j in range(nbits):\n",
    "    df[\"bit\"+str(j)]=[fingerprint[i][j] for i in range(len(fingerprint))]\n",
    "\n",
    "target = pd.Series(HL_gap)"
   ]
  },
  {
   "cell_type": "code",
   "execution_count": 55,
   "metadata": {},
   "outputs": [
    {
     "data": {
      "text/html": [
       "<div>\n",
       "<style>\n",
       "    .dataframe thead tr:only-child th {\n",
       "        text-align: right;\n",
       "    }\n",
       "\n",
       "    .dataframe thead th {\n",
       "        text-align: left;\n",
       "    }\n",
       "\n",
       "    .dataframe tbody tr th {\n",
       "        vertical-align: top;\n",
       "    }\n",
       "</style>\n",
       "<table border=\"1\" class=\"dataframe\">\n",
       "  <thead>\n",
       "    <tr style=\"text-align: right;\">\n",
       "      <th></th>\n",
       "      <th>bit0</th>\n",
       "      <th>bit1</th>\n",
       "      <th>bit2</th>\n",
       "      <th>bit3</th>\n",
       "      <th>bit4</th>\n",
       "      <th>bit5</th>\n",
       "      <th>bit6</th>\n",
       "      <th>bit7</th>\n",
       "      <th>bit8</th>\n",
       "      <th>bit9</th>\n",
       "      <th>...</th>\n",
       "      <th>bit118</th>\n",
       "      <th>bit119</th>\n",
       "      <th>bit120</th>\n",
       "      <th>bit121</th>\n",
       "      <th>bit122</th>\n",
       "      <th>bit123</th>\n",
       "      <th>bit124</th>\n",
       "      <th>bit125</th>\n",
       "      <th>bit126</th>\n",
       "      <th>bit127</th>\n",
       "    </tr>\n",
       "  </thead>\n",
       "  <tbody>\n",
       "    <tr>\n",
       "      <th>0</th>\n",
       "      <td>0</td>\n",
       "      <td>0</td>\n",
       "      <td>0</td>\n",
       "      <td>0</td>\n",
       "      <td>0</td>\n",
       "      <td>0</td>\n",
       "      <td>0</td>\n",
       "      <td>0</td>\n",
       "      <td>0</td>\n",
       "      <td>0</td>\n",
       "      <td>...</td>\n",
       "      <td>0</td>\n",
       "      <td>0</td>\n",
       "      <td>0</td>\n",
       "      <td>0</td>\n",
       "      <td>0</td>\n",
       "      <td>0</td>\n",
       "      <td>0</td>\n",
       "      <td>0</td>\n",
       "      <td>0</td>\n",
       "      <td>0</td>\n",
       "    </tr>\n",
       "    <tr>\n",
       "      <th>1</th>\n",
       "      <td>0</td>\n",
       "      <td>0</td>\n",
       "      <td>0</td>\n",
       "      <td>0</td>\n",
       "      <td>0</td>\n",
       "      <td>0</td>\n",
       "      <td>0</td>\n",
       "      <td>0</td>\n",
       "      <td>0</td>\n",
       "      <td>0</td>\n",
       "      <td>...</td>\n",
       "      <td>0</td>\n",
       "      <td>0</td>\n",
       "      <td>0</td>\n",
       "      <td>0</td>\n",
       "      <td>0</td>\n",
       "      <td>0</td>\n",
       "      <td>0</td>\n",
       "      <td>0</td>\n",
       "      <td>0</td>\n",
       "      <td>0</td>\n",
       "    </tr>\n",
       "    <tr>\n",
       "      <th>2</th>\n",
       "      <td>0</td>\n",
       "      <td>0</td>\n",
       "      <td>0</td>\n",
       "      <td>0</td>\n",
       "      <td>0</td>\n",
       "      <td>0</td>\n",
       "      <td>0</td>\n",
       "      <td>0</td>\n",
       "      <td>0</td>\n",
       "      <td>0</td>\n",
       "      <td>...</td>\n",
       "      <td>0</td>\n",
       "      <td>0</td>\n",
       "      <td>0</td>\n",
       "      <td>0</td>\n",
       "      <td>0</td>\n",
       "      <td>0</td>\n",
       "      <td>0</td>\n",
       "      <td>0</td>\n",
       "      <td>0</td>\n",
       "      <td>0</td>\n",
       "    </tr>\n",
       "    <tr>\n",
       "      <th>3</th>\n",
       "      <td>0</td>\n",
       "      <td>0</td>\n",
       "      <td>0</td>\n",
       "      <td>0</td>\n",
       "      <td>0</td>\n",
       "      <td>0</td>\n",
       "      <td>0</td>\n",
       "      <td>0</td>\n",
       "      <td>0</td>\n",
       "      <td>0</td>\n",
       "      <td>...</td>\n",
       "      <td>0</td>\n",
       "      <td>0</td>\n",
       "      <td>0</td>\n",
       "      <td>0</td>\n",
       "      <td>0</td>\n",
       "      <td>0</td>\n",
       "      <td>0</td>\n",
       "      <td>0</td>\n",
       "      <td>0</td>\n",
       "      <td>0</td>\n",
       "    </tr>\n",
       "    <tr>\n",
       "      <th>4</th>\n",
       "      <td>0</td>\n",
       "      <td>0</td>\n",
       "      <td>0</td>\n",
       "      <td>0</td>\n",
       "      <td>0</td>\n",
       "      <td>0</td>\n",
       "      <td>0</td>\n",
       "      <td>0</td>\n",
       "      <td>0</td>\n",
       "      <td>0</td>\n",
       "      <td>...</td>\n",
       "      <td>0</td>\n",
       "      <td>0</td>\n",
       "      <td>0</td>\n",
       "      <td>0</td>\n",
       "      <td>0</td>\n",
       "      <td>0</td>\n",
       "      <td>0</td>\n",
       "      <td>0</td>\n",
       "      <td>0</td>\n",
       "      <td>0</td>\n",
       "    </tr>\n",
       "  </tbody>\n",
       "</table>\n",
       "<p>5 rows × 128 columns</p>\n",
       "</div>"
      ],
      "text/plain": [
       "   bit0  bit1  bit2  bit3  bit4  bit5  bit6  bit7  bit8  bit9   ...    bit118  \\\n",
       "0     0     0     0     0     0     0     0     0     0     0   ...         0   \n",
       "1     0     0     0     0     0     0     0     0     0     0   ...         0   \n",
       "2     0     0     0     0     0     0     0     0     0     0   ...         0   \n",
       "3     0     0     0     0     0     0     0     0     0     0   ...         0   \n",
       "4     0     0     0     0     0     0     0     0     0     0   ...         0   \n",
       "\n",
       "   bit119  bit120  bit121  bit122  bit123  bit124  bit125  bit126  bit127  \n",
       "0       0       0       0       0       0       0       0       0       0  \n",
       "1       0       0       0       0       0       0       0       0       0  \n",
       "2       0       0       0       0       0       0       0       0       0  \n",
       "3       0       0       0       0       0       0       0       0       0  \n",
       "4       0       0       0       0       0       0       0       0       0  \n",
       "\n",
       "[5 rows x 128 columns]"
      ]
     },
     "execution_count": 55,
     "metadata": {},
     "output_type": "execute_result"
    }
   ],
   "source": [
    "df.head(5)"
   ]
  },
  {
   "cell_type": "code",
   "execution_count": 56,
   "metadata": {},
   "outputs": [
    {
     "data": {
      "text/plain": [
       "0    0.5048\n",
       "1    0.3399\n",
       "2    0.3615\n",
       "3    0.3351\n",
       "4    0.3796\n",
       "dtype: float64"
      ]
     },
     "execution_count": 56,
     "metadata": {},
     "output_type": "execute_result"
    }
   ],
   "source": [
    "target.head(5)"
   ]
  },
  {
   "cell_type": "code",
   "execution_count": 15,
   "metadata": {},
   "outputs": [
    {
     "data": {
      "text/plain": [
       "<matplotlib.text.Text at 0x1163bfc50>"
      ]
     },
     "execution_count": 15,
     "metadata": {},
     "output_type": "execute_result"
    },
    {
     "data": {
      "image/png": "[encoded data removed]",
      "text/plain": [
       "<matplotlib.figure.Figure at 0x1159fcd50>"
      ]
     },
     "metadata": {},
     "output_type": "display_data"
    }
   ],
   "source": [
    "# plot the distribution of HL gaps\n",
    "\n",
    "plt.figure()\n",
    "plt.hist(target,100,log=False);\n",
    "plt.xlim(0.1,0.4)\n",
    "plt.xlabel(\"HOMO-LUMO gap (eV)\")\n",
    "plt.ylabel(\"count\")"
   ]
  },
  {
   "cell_type": "code",
   "execution_count": 62,
   "metadata": {},
   "outputs": [],
   "source": [
    "# build the model\n",
    "model = Sequential()\n",
    "model.add(Dense(128, activation='relu', input_shape=(128,) ) )\n",
    "model.add(Dropout(0.1))\n",
    "model.add(Dense(64, activation='relu'))\n",
    "model.add(Dropout(0.1))\n",
    "model.add(Dense(32, activation='relu'))\n",
    "model.add(Dropout(0.1))\n",
    "model.add(Dense(1, activation='linear'))"
   ]
  },
  {
   "cell_type": "code",
   "execution_count": 63,
   "metadata": {},
   "outputs": [
    {
     "name": "stdout",
     "output_type": "stream",
     "text": [
      "_________________________________________________________________\n",
      "Layer (type)                 Output Shape              Param #   \n",
      "=================================================================\n",
      "dense_13 (Dense)             (None, 128)               16512     \n",
      "_________________________________________________________________\n",
      "dropout_4 (Dropout)          (None, 128)               0         \n",
      "_________________________________________________________________\n",
      "dense_14 (Dense)             (None, 64)                8256      \n",
      "_________________________________________________________________\n",
      "dropout_5 (Dropout)          (None, 64)                0         \n",
      "_________________________________________________________________\n",
      "dense_15 (Dense)             (None, 32)                2080      \n",
      "_________________________________________________________________\n",
      "dropout_6 (Dropout)          (None, 32)                0         \n",
      "_________________________________________________________________\n",
      "dense_16 (Dense)             (None, 1)                 33        \n",
      "=================================================================\n",
      "Total params: 26,881\n",
      "Trainable params: 26,881\n",
      "Non-trainable params: 0\n",
      "_________________________________________________________________\n"
     ]
    }
   ],
   "source": [
    "model.summary()\n",
    "model.compile(loss='mean_absolute_error', optimizer='adam')"
   ]
  },
  {
   "cell_type": "code",
   "execution_count": 64,
   "metadata": {},
   "outputs": [],
   "source": [
    "# split into training and test set\n",
    "trainX, testX, trainY, testY = train_test_split(df, target, train_size=0.7, test_size=0.3, random_state=24995)"
   ]
  },
  {
   "cell_type": "code",
   "execution_count": 65,
   "metadata": {
    "scrolled": false
   },
   "outputs": [
    {
     "name": "stdout",
     "output_type": "stream",
     "text": [
      "Train on 62791 samples, validate on 30928 samples\n",
      "Epoch 1/50\n",
      "62791/62791 [==============================] - 2s 32us/step - loss: 0.0394 - val_loss: 0.0243\n",
      "Epoch 2/50\n",
      "62791/62791 [==============================] - 2s 25us/step - loss: 0.0237 - val_loss: 0.0210\n",
      "Epoch 3/50\n",
      "62791/62791 [==============================] - 2s 25us/step - loss: 0.0207 - val_loss: 0.0188\n",
      "Epoch 4/50\n",
      "62791/62791 [==============================] - 2s 24us/step - loss: 0.0190 - val_loss: 0.0179\n",
      "Epoch 5/50\n",
      "62791/62791 [==============================] - 2s 24us/step - loss: 0.0180 - val_loss: 0.0170\n",
      "Epoch 6/50\n",
      "62791/62791 [==============================] - 2s 24us/step - loss: 0.0173 - val_loss: 0.0166\n",
      "Epoch 7/50\n",
      "62791/62791 [==============================] - 2s 24us/step - loss: 0.0167 - val_loss: 0.0164\n",
      "Epoch 8/50\n",
      "62791/62791 [==============================] - 2s 24us/step - loss: 0.0162 - val_loss: 0.0161\n",
      "Epoch 9/50\n",
      "62791/62791 [==============================] - 2s 24us/step - loss: 0.0158 - val_loss: 0.0166\n",
      "Epoch 10/50\n",
      "62791/62791 [==============================] - 2s 25us/step - loss: 0.0154 - val_loss: 0.0159\n",
      "Epoch 11/50\n",
      "62791/62791 [==============================] - 2s 26us/step - loss: 0.0152 - val_loss: 0.0153\n",
      "Epoch 12/50\n",
      "62791/62791 [==============================] - 2s 26us/step - loss: 0.0150 - val_loss: 0.0152\n",
      "Epoch 13/50\n",
      "62791/62791 [==============================] - 2s 28us/step - loss: 0.0147 - val_loss: 0.0150\n",
      "Epoch 14/50\n",
      "62791/62791 [==============================] - 2s 25us/step - loss: 0.0145 - val_loss: 0.0152\n",
      "Epoch 15/50\n",
      "62791/62791 [==============================] - 2s 24us/step - loss: 0.0144 - val_loss: 0.0153\n",
      "Epoch 16/50\n",
      "62791/62791 [==============================] - 2s 25us/step - loss: 0.0141 - val_loss: 0.0149\n",
      "Epoch 17/50\n",
      "62791/62791 [==============================] - 2s 25us/step - loss: 0.0140 - val_loss: 0.0149\n",
      "Epoch 18/50\n",
      "62791/62791 [==============================] - 2s 25us/step - loss: 0.0139 - val_loss: 0.0148\n",
      "Epoch 19/50\n",
      "62791/62791 [==============================] - 2s 25us/step - loss: 0.0137 - val_loss: 0.0147\n",
      "Epoch 20/50\n",
      "62791/62791 [==============================] - 2s 25us/step - loss: 0.0137 - val_loss: 0.0147\n",
      "Epoch 21/50\n",
      "62791/62791 [==============================] - 2s 25us/step - loss: 0.0135 - val_loss: 0.0150\n",
      "Epoch 22/50\n",
      "62791/62791 [==============================] - 2s 25us/step - loss: 0.0135 - val_loss: 0.0148\n",
      "Epoch 23/50\n",
      "62791/62791 [==============================] - 2s 25us/step - loss: 0.0134 - val_loss: 0.0148\n",
      "Epoch 24/50\n",
      "62791/62791 [==============================] - 2s 25us/step - loss: 0.0133 - val_loss: 0.0150\n",
      "Epoch 25/50\n",
      "62791/62791 [==============================] - 2s 25us/step - loss: 0.0132 - val_loss: 0.0145\n",
      "Epoch 26/50\n",
      "62791/62791 [==============================] - 2s 26us/step - loss: 0.0131 - val_loss: 0.0147\n",
      "Epoch 27/50\n",
      "62791/62791 [==============================] - 2s 27us/step - loss: 0.0131 - val_loss: 0.0147\n",
      "Epoch 28/50\n",
      "62791/62791 [==============================] - 2s 25us/step - loss: 0.0130 - val_loss: 0.0150\n",
      "Epoch 29/50\n",
      "62791/62791 [==============================] - 2s 26us/step - loss: 0.0130 - val_loss: 0.0145\n",
      "Epoch 30/50\n",
      "62791/62791 [==============================] - 2s 26us/step - loss: 0.0129 - val_loss: 0.0144\n",
      "Epoch 31/50\n",
      "62791/62791 [==============================] - 2s 25us/step - loss: 0.0128 - val_loss: 0.0147\n",
      "Epoch 32/50\n",
      "62791/62791 [==============================] - 2s 25us/step - loss: 0.0127 - val_loss: 0.0147\n",
      "Epoch 33/50\n",
      "62791/62791 [==============================] - 2s 25us/step - loss: 0.0128 - val_loss: 0.0144\n",
      "Epoch 34/50\n",
      "62791/62791 [==============================] - 2s 25us/step - loss: 0.0127 - val_loss: 0.0144\n",
      "Epoch 35/50\n",
      "62791/62791 [==============================] - 2s 25us/step - loss: 0.0127 - val_loss: 0.0143\n",
      "Epoch 36/50\n",
      "62791/62791 [==============================] - 2s 25us/step - loss: 0.0127 - val_loss: 0.0144\n",
      "Epoch 37/50\n",
      "62791/62791 [==============================] - 2s 25us/step - loss: 0.0126 - val_loss: 0.0145\n",
      "Epoch 38/50\n",
      "62791/62791 [==============================] - 2s 25us/step - loss: 0.0125 - val_loss: 0.0143\n",
      "Epoch 39/50\n",
      "62791/62791 [==============================] - 2s 25us/step - loss: 0.0125 - val_loss: 0.0146\n",
      "Epoch 40/50\n",
      "62791/62791 [==============================] - 2s 25us/step - loss: 0.0125 - val_loss: 0.0143\n",
      "Epoch 41/50\n",
      "62791/62791 [==============================] - 2s 26us/step - loss: 0.0124 - val_loss: 0.0144\n",
      "Epoch 42/50\n",
      "62791/62791 [==============================] - 2s 28us/step - loss: 0.0124 - val_loss: 0.0143\n",
      "Epoch 43/50\n",
      "62791/62791 [==============================] - 2s 28us/step - loss: 0.0124 - val_loss: 0.0144\n",
      "Epoch 44/50\n",
      "62791/62791 [==============================] - 2s 27us/step - loss: 0.0123 - val_loss: 0.0143\n",
      "Epoch 45/50\n",
      "62791/62791 [==============================] - 2s 25us/step - loss: 0.0123 - val_loss: 0.0143\n",
      "Epoch 46/50\n",
      "62791/62791 [==============================] - 2s 38us/step - loss: 0.0123 - val_loss: 0.0146\n",
      "Epoch 47/50\n",
      "62791/62791 [==============================] - 2s 28us/step - loss: 0.0123 - val_loss: 0.0145\n",
      "Epoch 48/50\n",
      "62791/62791 [==============================] - 2s 26us/step - loss: 0.0123 - val_loss: 0.0148\n",
      "Epoch 49/50\n",
      "62791/62791 [==============================] - 2s 25us/step - loss: 0.0122 - val_loss: 0.0146\n",
      "Epoch 50/50\n",
      "62791/62791 [==============================] - 2s 25us/step - loss: 0.0122 - val_loss: 0.0142\n"
     ]
    }
   ],
   "source": [
    "# train the model\n",
    "history = model.fit([trainX,], trainY, batch_size=100, epochs=50,  validation_split=0.33, verbose=1)"
   ]
  },
  {
   "cell_type": "code",
   "execution_count": 66,
   "metadata": {},
   "outputs": [],
   "source": [
    "# predict the HL gap of unseen data\n",
    "pred = model.predict([testX,])[:,0]"
   ]
  },
  {
   "cell_type": "code",
   "execution_count": 67,
   "metadata": {
    "scrolled": false
   },
   "outputs": [
    {
     "name": "stdout",
     "output_type": "stream",
     "text": [
      "0.0140374501587\n"
     ]
    },
    {
     "data": {
      "image/png": "[encoded data removed]",
      "text/plain": [
       "<matplotlib.figure.Figure at 0x11b89c750>"
      ]
     },
     "metadata": {},
     "output_type": "display_data"
    }
   ],
   "source": [
    "# plot prediction vs actual value\n",
    "\n",
    "plt.figure(figsize=(7,7))\n",
    "plt.hist2d(testY, pred, (50,50), norm=matplotlib.colors.LogNorm())\n",
    "low, high = 0.05,0.45\n",
    "plt.xlim(low,high)\n",
    "plt.ylim(low,high)\n",
    "xx = np.linspace(low,high,10)\n",
    "plt.plot(xx,xx,'y-')\n",
    "plt.grid()\n",
    "plt.colorbar()\n",
    "\n",
    "plt.xlabel(\"Homo-Lumu gap (eV)\")\n",
    "plt.ylabel(\"random forest prediction (eV)\")\n",
    "\n",
    "print \"MAE:\", np.mean(abs(pred-testY))"
   ]
  },
  {
   "cell_type": "code",
   "execution_count": 68,
   "metadata": {},
   "outputs": [
    {
     "data": {
      "text/plain": [
       "<matplotlib.text.Text at 0x11b6a21d0>"
      ]
     },
     "execution_count": 68,
     "metadata": {},
     "output_type": "execute_result"
    },
    {
     "data": {
      "image/png": "[encoded data removed]",
      "text/plain": [
       "<matplotlib.figure.Figure at 0x11b89c490>"
      ]
     },
     "metadata": {},
     "output_type": "display_data"
    }
   ],
   "source": [
    "# plot the learning curve\n",
    "\n",
    "plt.figure(figsize=(7,5))\n",
    "plt.plot(history.history[\"loss\"], label=\"training loss\", lw=5)\n",
    "plt.plot(history.history[\"val_loss\"], label = \"validation loss\", lw=5)\n",
    "plt.grid()\n",
    "plt.legend()\n",
    "plt.xlabel(\"epoch\", size=20)\n",
    "plt.ylabel(\"loss\", size=20)"
   ]
  },
  {
   "cell_type": "code",
   "execution_count": null,
   "metadata": {},
   "outputs": [],
   "source": []
  },
  {
   "cell_type": "code",
   "execution_count": null,
   "metadata": {},
   "outputs": [],
   "source": []
  }
 ],
 "metadata": {
  "kernelspec": {
   "display_name": "Python 2",
   "language": "python",
   "name": "python2"
  },
  "language_info": {
   "codemirror_mode": {
    "name": "ipython",
    "version": 2
   },
   "file_extension": ".py",
   "mimetype": "text/x-python",
   "name": "python",
   "nbconvert_exporter": "python",
   "pygments_lexer": "ipython2",
   "version": "2.7.13"
  }
 },
 "nbformat": 4,
 "nbformat_minor": 2
}
